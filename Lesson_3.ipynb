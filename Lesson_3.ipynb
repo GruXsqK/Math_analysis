{
 "cells": [
  {
   "cell_type": "markdown",
   "metadata": {},
   "source": [
    "# Тема 6 “Понятие о производной”"
   ]
  },
  {
   "cell_type": "markdown",
   "metadata": {},
   "source": [
    "1. Найти производную выражения:"
   ]
  },
  {
   "cell_type": "code",
   "execution_count": 1,
   "metadata": {},
   "outputs": [
    {
     "data": {
      "text/latex": [
       "$$a)\\quad(sin(x)*cos(x))'=(sin(x))'*cos(x)+sin(x)*(cos(x))'=cos^2(x)-sin^2(x)=2cos^2(x)-1$$\n",
       "$$b)\\quad(ln(2x+1)^3)'=(3ln(2x+1))'=\\frac{6}{2x+1}$$\n",
       "$$c)\\quad(\\sqrt{sin^2(ln(x^3))})'=|sin(ln(x^3))|'=\\frac{sin(ln(x^3))}{|sin(ln(x^3))|}*cos(ln(x^3))*\\frac{1}{x^3}*3x^2=\n",
       "\\frac{sin(ln(x^3))*3cos(ln(x^3))}{x*|sin(ln(x^3))|}$$\n",
       "$$d)\\quad(\\frac{x^4}{ln(x)})'=\\frac{(x^4)'*ln(x)-x^4*(ln(x))'}{(ln(x))^2}=\\frac{4x^3*ln(x)-x^3}{ln^2(x)}=\n",
       "x^3\\frac{4ln(x)-1}{ln^2(x)}=x^3(4\\frac{1}{ln(x)}-\\frac{1}{ln^2(x)})$$\n"
      ],
      "text/plain": [
       "<IPython.core.display.Latex object>"
      ]
     },
     "metadata": {},
     "output_type": "display_data"
    }
   ],
   "source": [
    "%%latex\n",
    "$$a)\\quad(sin(x)*cos(x))'=(sin(x))'*cos(x)+sin(x)*(cos(x))'=cos^2(x)-sin^2(x)=2cos^2(x)-1$$\n",
    "$$b)\\quad(ln(2x+1)^3)'=(3ln(2x+1))'=\\frac{6}{2x+1}$$\n",
    "$$c)\\quad(\\sqrt{sin^2(ln(x^3))})'=|sin(ln(x^3))|'=\\frac{sin(ln(x^3))}{|sin(ln(x^3))|}*cos(ln(x^3))*\\frac{1}{x^3}*3x^2=\n",
    "\\frac{sin(ln(x^3))*3cos(ln(x^3))}{x*|sin(ln(x^3))|}$$\n",
    "$$d)\\quad(\\frac{x^4}{ln(x)})'=\\frac{(x^4)'*ln(x)-x^4*(ln(x))'}{(ln(x))^2}=\\frac{4x^3*ln(x)-x^3}{ln^2(x)}=\n",
    "x^3\\frac{4ln(x)-1}{ln^2(x)}=x^3(4\\frac{1}{ln(x)}-\\frac{1}{ln^2(x)})$$"
   ]
  },
  {
   "cell_type": "markdown",
   "metadata": {},
   "source": [
    "2. Найти выражение производной функции и ее значение в точке:"
   ]
  },
  {
   "cell_type": "code",
   "execution_count": 2,
   "metadata": {},
   "outputs": [
    {
     "data": {
      "text/latex": [
       "$$f(x)=cos(x^2+3x), \\quad x_0=\\sqrt{\\pi}$$\n",
       "$$f'(x)=(-sin(x^2+3x))*(2x+3)=(-2x-3)*sin(x^2+3x)$$\n",
       "$$f'(x_0)=(-2\\sqrt{\\pi}-3)*sin(\\pi+3\\sqrt{\\pi})=(-2\\sqrt{\\pi}-3)*(sin(\\pi)*cos(3\\sqrt{\\pi})+cos(\\pi)*sin(3\\sqrt{\\pi}))=\n",
       "(2\\sqrt{\\pi}+3)*sin(3\\sqrt{\\pi})\\approx -5,3833$$\n"
      ],
      "text/plain": [
       "<IPython.core.display.Latex object>"
      ]
     },
     "metadata": {},
     "output_type": "display_data"
    }
   ],
   "source": [
    "%%latex\n",
    "$$f(x)=cos(x^2+3x), \\quad x_0=\\sqrt{\\pi}$$\n",
    "$$f'(x)=(-sin(x^2+3x))*(2x+3)=(-2x-3)*sin(x^2+3x)$$\n",
    "$$f'(x_0)=(-2\\sqrt{\\pi}-3)*sin(\\pi+3\\sqrt{\\pi})=(-2\\sqrt{\\pi}-3)*(sin(\\pi)*cos(3\\sqrt{\\pi})+cos(\\pi)*sin(3\\sqrt{\\pi}))=\n",
    "(2\\sqrt{\\pi}+3)*sin(3\\sqrt{\\pi})\\approx -5,3833$$"
   ]
  },
  {
   "cell_type": "markdown",
   "metadata": {},
   "source": [
    "3.  *Найти значение производной функции в точке:"
   ]
  },
  {
   "cell_type": "code",
   "execution_count": 3,
   "metadata": {},
   "outputs": [
    {
     "data": {
      "text/latex": [
       "$$f(x)=\\frac{x^3-x^2-x-1}{1+2x+3x^2-4x^3}, \\quad x_0=0$$\n",
       "$$f'(x)=\\frac{(x^3-x^2-x-1)'(1+2x+3x^2-4x^3)-(x^3-x^2-x-1)(1+2x+3x^2-4x^3)'}{(1+2x+3x^2-4x^3)^2}$$\n",
       "$$f'(x)=\\frac{(3x^2-2x-1)(1+2x+3x^2-4x^3)-(x^3-x^2-x-1)(2+6x-12x^2)}{(1+2x+3x^2-4x^3)^2}$$\n",
       "$$f'(x_0)=\\frac{(-1)(1)-(-1)(2)}{(1)^2}=1$$\n"
      ],
      "text/plain": [
       "<IPython.core.display.Latex object>"
      ]
     },
     "metadata": {},
     "output_type": "display_data"
    }
   ],
   "source": [
    "%%latex\n",
    "$$f(x)=\\frac{x^3-x^2-x-1}{1+2x+3x^2-4x^3}, \\quad x_0=0$$\n",
    "$$f'(x)=\\frac{(x^3-x^2-x-1)'(1+2x+3x^2-4x^3)-(x^3-x^2-x-1)(1+2x+3x^2-4x^3)'}{(1+2x+3x^2-4x^3)^2}$$\n",
    "$$f'(x)=\\frac{(3x^2-2x-1)(1+2x+3x^2-4x^3)-(x^3-x^2-x-1)(2+6x-12x^2)}{(1+2x+3x^2-4x^3)^2}$$\n",
    "$$f'(x_0)=\\frac{(-1)(1)-(-1)(2)}{(1)^2}=1$$"
   ]
  },
  {
   "cell_type": "markdown",
   "metadata": {},
   "source": [
    "4. Найти угол наклона касательной к графику функции в точке:"
   ]
  },
  {
   "cell_type": "code",
   "execution_count": 4,
   "metadata": {},
   "outputs": [
    {
     "data": {
      "text/latex": [
       "$$f(x)=\\sqrt{3x}*ln(x), \\quad x_0=1$$\n",
       "$$f'(x)=\\frac{3ln(x)}{2\\sqrt{3x}}+\\frac{\\sqrt{3x}}{x}=\\frac{\\sqrt{3x}(3xln(x)+2)}{2x}$$\n",
       "$$f'(x_0)=\\frac{\\sqrt{3}(3*ln(1)+2)}{2}=\\sqrt{3}=tg(\\alpha)$$\n",
       "$$\\alpha=arctg(\\sqrt{3})=\\frac{\\pi}{3}=60^o$$\n"
      ],
      "text/plain": [
       "<IPython.core.display.Latex object>"
      ]
     },
     "metadata": {},
     "output_type": "display_data"
    }
   ],
   "source": [
    "%%latex\n",
    "$$f(x)=\\sqrt{3x}*ln(x), \\quad x_0=1$$\n",
    "$$f'(x)=\\frac{3ln(x)}{2\\sqrt{3x}}+\\frac{\\sqrt{3x}}{x}=\\frac{\\sqrt{3x}(3xln(x)+2)}{2x}$$\n",
    "$$f'(x_0)=\\frac{\\sqrt{3}(3*ln(1)+2)}{2}=\\sqrt{3}=tg(\\alpha)$$\n",
    "$$\\alpha=arctg(\\sqrt{3})=\\frac{\\pi}{3}=60^o$$"
   ]
  }
 ],
 "metadata": {
  "kernelspec": {
   "display_name": "Python 3",
   "language": "python",
   "name": "python3"
  },
  "language_info": {
   "codemirror_mode": {
    "name": "ipython",
    "version": 3
   },
   "file_extension": ".py",
   "mimetype": "text/x-python",
   "name": "python",
   "nbconvert_exporter": "python",
   "pygments_lexer": "ipython3",
   "version": "3.7.3"
  }
 },
 "nbformat": 4,
 "nbformat_minor": 2
}
