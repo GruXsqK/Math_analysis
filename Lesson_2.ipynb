{
 "cells": [
  {
   "cell_type": "markdown",
   "metadata": {},
   "source": [
    "# Практическая работа к видеоуроку \"Предел функции\""
   ]
  },
  {
   "cell_type": "markdown",
   "metadata": {},
   "source": [
    "## Тема “Предел функции”"
   ]
  },
  {
   "cell_type": "markdown",
   "metadata": {},
   "source": [
    "1. Предложить пример функции, не имеющей предела в нуле и в бесконечностях."
   ]
  },
  {
   "cell_type": "code",
   "execution_count": 1,
   "metadata": {},
   "outputs": [
    {
     "data": {
      "text/latex": [
       "$$f(x)=sin(x+\\frac{1}{x})$$\n"
      ],
      "text/plain": [
       "<IPython.core.display.Latex object>"
      ]
     },
     "metadata": {},
     "output_type": "display_data"
    }
   ],
   "source": [
    "%%latex\n",
    "$$f(x)=sin(x+\\frac{1}{x})$$"
   ]
  },
  {
   "cell_type": "markdown",
   "metadata": {},
   "source": [
    "2. Привести пример функции, не имеющей предела в точке, но определенной в ней."
   ]
  },
  {
   "cell_type": "code",
   "execution_count": 2,
   "metadata": {},
   "outputs": [
    {
     "data": {
      "text/latex": [
       "$$f(x)=sign(x);\\quad sign(0)=0;\\quad \\lim\\limits_{x\\to 0}sign(x)\\text{ - не определен, т.к. пределы справа и слева различны}$$\n"
      ],
      "text/plain": [
       "<IPython.core.display.Latex object>"
      ]
     },
     "metadata": {},
     "output_type": "display_data"
    }
   ],
   "source": [
    "%%latex\n",
    "$$f(x)=sign(x);\\quad sign(0)=0;\\quad \\lim\\limits_{x\\to 0}sign(x)\\text{ - не определен, т.к. пределы справа и слева различны}$$"
   ]
  },
  {
   "cell_type": "markdown",
   "metadata": {},
   "source": [
    "3. Исследовать функцию по плану:\n",
    "a. Область задания и область значений.\n",
    "b. Нули функции и их кратность.\n",
    "c. Отрезки знакопостоянства.\n",
    "d. Интервалы монотонности.\n",
    "e. Четность функции.\n",
    "f. Ограниченность.\n",
    "g. Периодичность."
   ]
  },
  {
   "cell_type": "code",
   "execution_count": 3,
   "metadata": {},
   "outputs": [
    {
     "data": {
      "text/latex": [
       "$$f(x)=x^3-x^2$$\n",
       "$$a)\\quad D(f)=\\{-\\infty;+\\infty\\};\\quad E(f)=\\{-\\infty;+\\infty\\}$$\n",
       "$$b)\\quad x_1=0, x_2=0, x_3=1$$\n",
       "$$c)\\quad f(x)<0:x\\in(-\\infty, 0)\\cup(0, 1);\\quad f(x)>0:x\\in(1, +\\infty)$$\n",
       "$$d)\\quad f^\\uparrow(x):x\\in(-\\infty,0)\\cup(\\frac{2}{3},+\\infty)-\\text{т.к. $f'(x)>0$};\n",
       "    \\quad f^\\downarrow(x):x\\in(0,\\frac{2}{3})-\\text{т.к. $f'(x)<0$}$$\n",
       "$$e)\\quad \\text{Функция ни четная, ни нечетная, т.к. $f(-x)\\ne f(x)$ и $f(-x)\\ne -f(x)$}$$\n",
       "$$f)\\quad \\text{Функция неограниченная}$$\n",
       "$$e)\\quad \\text{Функция непериодическая}$$\n"
      ],
      "text/plain": [
       "<IPython.core.display.Latex object>"
      ]
     },
     "metadata": {},
     "output_type": "display_data"
    }
   ],
   "source": [
    "%%latex\n",
    "$$f(x)=x^3-x^2$$\n",
    "$$a)\\quad D(f)=\\{-\\infty;+\\infty\\};\\quad E(f)=\\{-\\infty;+\\infty\\}$$\n",
    "$$b)\\quad x_1=0, x_2=0, x_3=1$$\n",
    "$$c)\\quad f(x)<0:x\\in(-\\infty, 0)\\cup(0, 1);\\quad f(x)>0:x\\in(1, +\\infty)$$\n",
    "$$d)\\quad f^\\uparrow(x):x\\in(-\\infty,0)\\cup(\\frac{2}{3},+\\infty)-\\text{т.к. $f'(x)>0$};\n",
    "    \\quad f^\\downarrow(x):x\\in(0,\\frac{2}{3})-\\text{т.к. $f'(x)<0$}$$\n",
    "$$e)\\quad \\text{Функция ни четная, ни нечетная, т.к. $f(-x)\\ne f(x)$ и $f(-x)\\ne -f(x)$}$$\n",
    "$$f)\\quad \\text{Функция неограниченная}$$\n",
    "$$e)\\quad \\text{Функция непериодическая}$$"
   ]
  },
  {
   "cell_type": "markdown",
   "metadata": {},
   "source": [
    "4. Найти предел:"
   ]
  },
  {
   "cell_type": "code",
   "execution_count": 4,
   "metadata": {},
   "outputs": [
    {
     "data": {
      "text/latex": [
       "$$\\lim\\limits_{x\\to 0}\\frac{3x^3-2x^2}{4x^2}=\\lim\\limits_{x\\to 0}\\frac{x^2(3x-2)}{4x^2}=\\lim\\limits_{x\\to 0}\\frac{3x}{4}-\n",
       "\\lim\\limits_{x\\to 0}\\frac{-2}{4}=0-\\frac{2}{4}=-\\frac{1}{2}$$\n",
       "$\\lim\\limits_{x\\to 0}\\frac{\\sqrt{1+x}-1}{\\sqrt[3]{1+x}-1}=\\lim\\limits_{x\\to 0}\\frac{(\\sqrt{1+x}-1)(\\sqrt{1+x}+1)\n",
       "(\\sqrt[3]{(x+1)^2}+\\sqrt[3]{x+1}+1)}{(\\sqrt[3]{1+x}-1)(\\sqrt{1+x}+1)(\\sqrt[3]{(x+1)^2}+\\sqrt[3]{x+1}+1)}=\\lim\\limits_{x\\to 0}\n",
       "\\frac{(\\sqrt{(1+x)^2}-1^2)(\\sqrt[3]{(x+1)^2}+\\sqrt[3]{x+1}+1)}{(\\sqrt{(1+x)^3}-1^3)(\\sqrt{1+x}+1)}=\\lim\\limits_{x\\to 0}\n",
       "\\frac{\\sqrt[3]{(x+1)^2}+\\sqrt[3]{x+1}+1}{\\sqrt{1+x}+1}=\\frac{3}{2}$\n",
       "$$\\lim\\limits_{x\\to \\infty}(\\frac{x+3}{x})^{4x+1}=\\lim\\limits_{x\\to \\infty}(1+\\frac{3}{x})^{4x+1}=\\lim\\limits_{x\\to \\infty}\n",
       "(1+\\frac{3}{x})^{4x}*\\lim\\limits_{x\\to \\infty}(1+\\frac{3}{x})=e^{3*4}*1=e^{12}$$\n"
      ],
      "text/plain": [
       "<IPython.core.display.Latex object>"
      ]
     },
     "metadata": {},
     "output_type": "display_data"
    }
   ],
   "source": [
    "%%latex\n",
    "$$\\lim\\limits_{x\\to 0}\\frac{3x^3-2x^2}{4x^2}=\\lim\\limits_{x\\to 0}\\frac{x^2(3x-2)}{4x^2}=\\lim\\limits_{x\\to 0}\\frac{3x}{4}-\n",
    "\\lim\\limits_{x\\to 0}\\frac{-2}{4}=0-\\frac{2}{4}=-\\frac{1}{2}$$\n",
    "$\\lim\\limits_{x\\to 0}\\frac{\\sqrt{1+x}-1}{\\sqrt[3]{1+x}-1}=\\lim\\limits_{x\\to 0}\\frac{(\\sqrt{1+x}-1)(\\sqrt{1+x}+1)\n",
    "(\\sqrt[3]{(x+1)^2}+\\sqrt[3]{x+1}+1)}{(\\sqrt[3]{1+x}-1)(\\sqrt{1+x}+1)(\\sqrt[3]{(x+1)^2}+\\sqrt[3]{x+1}+1)}=\\lim\\limits_{x\\to 0}\n",
    "\\frac{(\\sqrt{(1+x)^2}-1^2)(\\sqrt[3]{(x+1)^2}+\\sqrt[3]{x+1}+1)}{(\\sqrt{(1+x)^3}-1^3)(\\sqrt{1+x}+1)}=\\lim\\limits_{x\\to 0}\n",
    "\\frac{\\sqrt[3]{(x+1)^2}+\\sqrt[3]{x+1}+1}{\\sqrt{1+x}+1}=\\frac{3}{2}$\n",
    "$$\\lim\\limits_{x\\to \\infty}(\\frac{x+3}{x})^{4x+1}=\\lim\\limits_{x\\to \\infty}(1+\\frac{3}{x})^{4x+1}=\\lim\\limits_{x\\to \\infty}\n",
    "(1+\\frac{3}{x})^{4x}*\\lim\\limits_{x\\to \\infty}(1+\\frac{3}{x})=e^{3*4}*1=e^{12}$$"
   ]
  },
  {
   "cell_type": "markdown",
   "metadata": {},
   "source": [
    "## Тема “Теоремы о пределах”"
   ]
  },
  {
   "cell_type": "markdown",
   "metadata": {},
   "source": [
    "1. Найти предел:"
   ]
  },
  {
   "cell_type": "code",
   "execution_count": 5,
   "metadata": {},
   "outputs": [
    {
     "data": {
      "text/latex": [
       "$$\\lim\\limits_{x\\to 0}\\frac{sin(2x)}{4x}=\\lim\\limits_{x\\to 0}\\frac{2x}{4x}=\\frac{1}{2}$$\n",
       "$$\\lim\\limits_{x\\to 0}\\frac{x}{sin(x)}=\\lim\\limits_{x\\to 0}1\\div\\frac{sin(x)}{x}=1$$\n",
       "$$\\lim\\limits_{x\\to 0}\\frac{x}{arcsin(x)}=1$$\n",
       "$$\\lim\\limits_{x\\to \\infty}(\\frac{4x+3}{4x-3})^{6x}=\\lim\\limits_{x\\to \\infty}(\\frac{4x-3+6}{4x-3})^{6x}=\\lim\\limits_{x\\to\n",
       "    \\infty}(1+\\frac{6}{4x-3})^{6x}=\\lim\\limits_{x\\to \\infty}(1+\\frac{6}{4x-3})^{\\frac{6}{4}(4x-3)}=e^{\\frac{6}{4}*6}=e^9$$\n",
       "$$\\lim\\limits_{x\\to \\infty}\\frac{sin(x)+ln(x)}{x}=\\lim\\limits_{x\\to \\infty}\\frac{sin(x)}{x}+\\lim\\limits_{x\\to \\infty}\n",
       "    \\frac{ln(x)}{x}=0+\\lim\\limits_{x\\to \\infty}\\frac{\\frac{1}{x}}{1}=\\lim\\limits_{x\\to \\infty}\\frac{1}{x}=0$$\n"
      ],
      "text/plain": [
       "<IPython.core.display.Latex object>"
      ]
     },
     "metadata": {},
     "output_type": "display_data"
    }
   ],
   "source": [
    "%%latex\n",
    "$$\\lim\\limits_{x\\to 0}\\frac{sin(2x)}{4x}=\\lim\\limits_{x\\to 0}\\frac{2x}{4x}=\\frac{1}{2}$$\n",
    "$$\\lim\\limits_{x\\to 0}\\frac{x}{sin(x)}=\\lim\\limits_{x\\to 0}1\\div\\frac{sin(x)}{x}=1$$\n",
    "$$\\lim\\limits_{x\\to 0}\\frac{x}{arcsin(x)}=1$$\n",
    "$$\\lim\\limits_{x\\to \\infty}(\\frac{4x+3}{4x-3})^{6x}=\\lim\\limits_{x\\to \\infty}(\\frac{4x-3+6}{4x-3})^{6x}=\\lim\\limits_{x\\to\n",
    "    \\infty}(1+\\frac{6}{4x-3})^{6x}=\\lim\\limits_{x\\to \\infty}(1+\\frac{6}{4x-3})^{\\frac{6}{4}(4x-3)}=e^{\\frac{6}{4}*6}=e^9$$\n",
    "$$\\lim\\limits_{x\\to \\infty}\\frac{sin(x)+ln(x)}{x}=\\lim\\limits_{x\\to \\infty}\\frac{sin(x)}{x}+\\lim\\limits_{x\\to \\infty}\n",
    "    \\frac{ln(x)}{x}=0+\\lim\\limits_{x\\to \\infty}\\frac{\\frac{1}{x}}{1}=\\lim\\limits_{x\\to \\infty}\\frac{1}{x}=0$$"
   ]
  }
 ],
 "metadata": {
  "kernelspec": {
   "display_name": "Python 3",
   "language": "python",
   "name": "python3"
  },
  "language_info": {
   "codemirror_mode": {
    "name": "ipython",
    "version": 3
   },
   "file_extension": ".py",
   "mimetype": "text/x-python",
   "name": "python",
   "nbconvert_exporter": "python",
   "pygments_lexer": "ipython3",
   "version": "3.7.3"
  }
 },
 "nbformat": 4,
 "nbformat_minor": 2
}
