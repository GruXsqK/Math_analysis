{
 "cells": [
  {
   "cell_type": "markdown",
   "metadata": {},
   "source": [
    "# Домашнее задание по теме «Производная функции нескольких переменных №2»"
   ]
  },
  {
   "cell_type": "markdown",
   "metadata": {},
   "source": [
    "1. Исследовать функцию на условный экстремум"
   ]
  },
  {
   "cell_type": "code",
   "execution_count": 1,
   "metadata": {},
   "outputs": [
    {
     "data": {
      "text/latex": [
       "$$1.\\quad U=3-8x+6y,\\quad x^2+y^2=36$$\n",
       "$$L(\\lambda_1,x,y)=3-8x+6y+\\lambda_1*(x^2+y^2-36)$$\n",
       "\\begin{eqnarray*}\\\\\\begin{cases}L'_x=-8+\\lambda_1*2x=0\\\\L'_y=6+\\lambda_1*2y=0\\\\L'_{\\lambda_1}=x^2+y^2-36=0\\\\\\end{cases}\n",
       "\\Rightarrow\\begin{cases}x=\\frac{8}{2\\lambda_1}\\\\y=-\\frac{6}{2\\lambda_1}\\\\\\lambda^2_1=\\frac{25}{36}\\\\\\end{cases}\\end{eqnarray*}\n",
       "\\begin{eqnarray}\\end{eqnarray}\n",
       "$$(\\frac{5}{6}, \\frac{24}{5}, -\\frac{18}{5});\\quad (-\\frac{5}{6}, -\\frac{24}{5}, \\frac{18}{5})$$$$$$\n",
       "$$\\begin{eqnarray*}\\left|\\begin{array}{ccc}0&2x&2y\\\\2x&2\\lambda_1&0\\\\2y&0&2\\lambda_1\\end{array}\\right|=0*\\left|\n",
       "\\begin{array}{cc}2\\lambda_1&0\\\\0&2\\lambda_1\\end{array}\\right|-2x*\\left|\\begin{array}{cc}2x&0\\\\2y&2\\lambda_1\\end{array}\n",
       "\\right|+2y*\\left|\\begin{array}{cc}2x&2\\lambda_1\\\\2y&0\\end{array}\\right|\\end{eqnarray*}=0-2x*(2x*2\\lambda_1-0)+\n",
       "2y*(0-2y*2\\lambda_1)=-8\\lambda_1(x^2+y^2)$$$$$$\n",
       "$$\\text{Для точки}\\quad(\\frac{5}{6},\\frac{24}{5},-\\frac{18}{5}):\\quad\\varDelta=-8*\\frac{5}{6}*((\\frac{24}{5})^2+\n",
       "                                                                                (-\\frac{18}{5})^2)<0\\text{ - точка минимума}$$\n",
       "$$\\text{Для точки}\\quad(-\\frac{5}{6},-\\frac{24}{5},\\frac{18}{5}):\\quad\\varDelta=-8*-\\frac{5}{6}*((-\\frac{24}{5})^2+\n",
       "                                                                                (\\frac{18}{5})^2)>0\\text{ - точка максимума}$$\n"
      ],
      "text/plain": [
       "<IPython.core.display.Latex object>"
      ]
     },
     "metadata": {},
     "output_type": "display_data"
    }
   ],
   "source": [
    "%%latex\n",
    "$$1.\\quad U=3-8x+6y,\\quad x^2+y^2=36$$\n",
    "$$L(\\lambda_1,x,y)=3-8x+6y+\\lambda_1*(x^2+y^2-36)$$\n",
    "\\begin{eqnarray*}\\\\\\begin{cases}L'_x=-8+\\lambda_1*2x=0\\\\L'_y=6+\\lambda_1*2y=0\\\\L'_{\\lambda_1}=x^2+y^2-36=0\\\\\\end{cases}\n",
    "\\Rightarrow\\begin{cases}x=\\frac{8}{2\\lambda_1}\\\\y=-\\frac{6}{2\\lambda_1}\\\\\\lambda^2_1=\\frac{25}{36}\\\\\\end{cases}\\end{eqnarray*}\n",
    "\\begin{eqnarray}\\end{eqnarray}\n",
    "$$(\\frac{5}{6}, \\frac{24}{5}, -\\frac{18}{5});\\quad (-\\frac{5}{6}, -\\frac{24}{5}, \\frac{18}{5})$$$$$$\n",
    "$$\\begin{eqnarray*}\\left|\\begin{array}{ccc}0&2x&2y\\\\2x&2\\lambda_1&0\\\\2y&0&2\\lambda_1\\end{array}\\right|=0*\\left|\n",
    "\\begin{array}{cc}2\\lambda_1&0\\\\0&2\\lambda_1\\end{array}\\right|-2x*\\left|\\begin{array}{cc}2x&0\\\\2y&2\\lambda_1\\end{array}\n",
    "\\right|+2y*\\left|\\begin{array}{cc}2x&2\\lambda_1\\\\2y&0\\end{array}\\right|\\end{eqnarray*}=0-2x*(2x*2\\lambda_1-0)+\n",
    "2y*(0-2y*2\\lambda_1)=-8\\lambda_1(x^2+y^2)$$$$$$\n",
    "$$\\text{Для точки}\\quad(\\frac{5}{6},\\frac{24}{5},-\\frac{18}{5}):\\quad\\varDelta=-8*\\frac{5}{6}*((\\frac{24}{5})^2+\n",
    "                                                                                (-\\frac{18}{5})^2)<0\\text{ - точка минимума}$$\n",
    "$$\\text{Для точки}\\quad(-\\frac{5}{6},-\\frac{24}{5},\\frac{18}{5}):\\quad\\varDelta=-8*-\\frac{5}{6}*((-\\frac{24}{5})^2+\n",
    "                                                                                (\\frac{18}{5})^2)>0\\text{ - точка максимума}$$"
   ]
  },
  {
   "cell_type": "code",
   "execution_count": 2,
   "metadata": {
    "scrolled": true
   },
   "outputs": [
    {
     "data": {
      "text/latex": [
       "$$2.\\quad U=2x^2+12xy+32y^2+15,\\quad x^2+16y^2=64$$\n",
       "$$L(\\lambda_1,x,y)=2x^2+12xy+32y^2+15+\\lambda_1*(x^2+16y^2-64)$$\n",
       "\\begin{eqnarray*}\\\\\\begin{cases}L'_x=4x+12y+\\lambda_1*2x=0\\\\L'_y=12x+64y+\\lambda_1*32y=0\\\\L'_{\\lambda_1}=x^2+16y^2-64=0\\\\\n",
       "\\end{cases}\\Rightarrow\\begin{cases}16\\sqrt{4-y^2}+12y+\\lambda_1*8\\sqrt{4-y^2}=0\\\\48\\sqrt{4-y^2}+64y+\\lambda_1*32y=0\\\\x^2=16\n",
       "(4-y^2)\\\\\\end{cases}\\Rightarrow\\begin{cases}16\\sqrt{4-y^2}+12y+\\frac{-48\\sqrt{4-y^2}-64y}{32y}*8\\sqrt{4-y^2}=0\\\\\\lambda_1=\n",
       "\\frac{-48\\sqrt{4-y^2}-64y}{32y}\\\\x^2=16(4-y^2)\\\\\\end{cases}\\Rightarrow\\end{eqnarray*}\\begin{eqnarray}\\end{eqnarray}\n",
       "\\begin{eqnarray*}\\Rightarrow\\begin{cases}16\\sqrt{4-y^2}+12y+\\frac{-48\\sqrt{4-y^2}-64y}{32y}*8\\sqrt{4-y^2}=0\\\\\n",
       "\\lambda_1=\\frac{-48\\sqrt{4-y^2}-64y}{32y}\\\\x^2=16(4-y^2)\\\\\\end{cases}\\Rightarrow\\begin{cases}y^2=2\\\\\n",
       "\\lambda_1=\\frac{-4x-12y}{2x}\\\\x^2=16(4-y^2)\\\\\\end{cases}\\\\\\\\\\end{eqnarray*}\n",
       "$$(\\lambda_1, x, y):\\quad(-\\frac{7}{2}, 4\\sqrt{2}, \\sqrt{2}),\\quad(-\\frac{1}{2}, 4\\sqrt{2}, -\\sqrt{2}),\\quad\n",
       "    (-\\frac{1}{2}, -4\\sqrt{2}, \\sqrt{2}),\\quad(-\\frac{7}{2}, -4\\sqrt{2}, -\\sqrt{2})$$$$$$\n",
       "$$\\begin{eqnarray*}\\left|\\begin{array}{ccc}0&2x&32y\\\\2x&4+2\\lambda_1&12\\\\32y&12&64+32\\lambda_1\\end{array}\\right|=0*\\left|\n",
       "\\begin{array}{cc}4+2\\lambda_1&12\\\\12&64+32\\lambda_1\\end{array}\\right|-2x*\\left|\\begin{array}{cc}2x&32y\\\\12&64+32\\lambda_1\n",
       "\\end{array}\\right|+32y*\\left|\\begin{array}{cc}2x&4+2\\lambda_1\\\\32y&12\\end{array}\\right|\\end{eqnarray*}=$$$$$$\n",
       "$$=0-2x*(2x(64-32\\lambda_1)-384y)+32y(24x-32y(4+\\lambda_1))=-256x^2-128x^2\\lambda_1+1536xy-4096y^2-2048y^2\\lambda_1=$$$$$$\n",
       "$$=-128(x^2(2+\\lambda_1)-12xy+16y^2(2+\\lambda_1))=-128((x^2+16y^2)(2+\\lambda_1)-12xy)=-128(64(2+\\lambda_1)-12xy)=\n",
       "-512(16(2+\\lambda_1)-3xy)$$$$$$\n",
       "\n",
       "\n",
       "$$\\text{Для точки}\\quad(-\\frac{7}{2}, 4\\sqrt{2}, \\sqrt{2}):\\quad\\varDelta=-512*(16*(2-\\frac{7}{2})-3*4\\sqrt{2}*\\sqrt{2})\n",
       "    =24576>0\\text{ - точка глобального максимума}$$\n",
       "$$\\text{Для точки}\\quad(-\\frac{1}{2}, 4\\sqrt{2}, -\\sqrt{2}):\\quad\\varDelta=-512*(16*(2-\\frac{1}{2})-3*4\\sqrt{2}*(-\\sqrt{2}))\n",
       "    =-24576<0\\text{ - точка локального минимума}$$\n",
       "$$\\text{Для точки}\\quad(-\\frac{1}{2}, -4\\sqrt{2}, \\sqrt{2}):\\quad\\varDelta=-512*(16*(2-\\frac{1}{2})+3*4\\sqrt{2}*\\sqrt{2})\n",
       "    =-24576<0\\text{ - точка глобального минимума}$$\n",
       "$$\\text{Для точки}\\quad(-\\frac{7}{2}, -4\\sqrt{2}, -\\sqrt{2}):\\quad\\varDelta=-512*(16*(2-\\frac{7}{2})+3*4\\sqrt{2}*(-\\sqrt{2}))\n",
       "    =24576>0\\text{ - точка локального максимума}$$\n"
      ],
      "text/plain": [
       "<IPython.core.display.Latex object>"
      ]
     },
     "metadata": {},
     "output_type": "display_data"
    }
   ],
   "source": [
    "%%latex\n",
    "$$2.\\quad U=2x^2+12xy+32y^2+15,\\quad x^2+16y^2=64$$\n",
    "$$L(\\lambda_1,x,y)=2x^2+12xy+32y^2+15+\\lambda_1*(x^2+16y^2-64)$$\n",
    "\\begin{eqnarray*}\\\\\\begin{cases}L'_x=4x+12y+\\lambda_1*2x=0\\\\L'_y=12x+64y+\\lambda_1*32y=0\\\\L'_{\\lambda_1}=x^2+16y^2-64=0\\\\\n",
    "\\end{cases}\\Rightarrow\\begin{cases}16\\sqrt{4-y^2}+12y+\\lambda_1*8\\sqrt{4-y^2}=0\\\\48\\sqrt{4-y^2}+64y+\\lambda_1*32y=0\\\\x^2=16\n",
    "(4-y^2)\\\\\\end{cases}\\Rightarrow\\begin{cases}16\\sqrt{4-y^2}+12y+\\frac{-48\\sqrt{4-y^2}-64y}{32y}*8\\sqrt{4-y^2}=0\\\\\\lambda_1=\n",
    "\\frac{-48\\sqrt{4-y^2}-64y}{32y}\\\\x^2=16(4-y^2)\\\\\\end{cases}\\Rightarrow\\end{eqnarray*}\\begin{eqnarray}\\end{eqnarray}\n",
    "\\begin{eqnarray*}\\Rightarrow\\begin{cases}16\\sqrt{4-y^2}+12y+\\frac{-48\\sqrt{4-y^2}-64y}{32y}*8\\sqrt{4-y^2}=0\\\\\n",
    "\\lambda_1=\\frac{-48\\sqrt{4-y^2}-64y}{32y}\\\\x^2=16(4-y^2)\\\\\\end{cases}\\Rightarrow\\begin{cases}y^2=2\\\\\n",
    "\\lambda_1=\\frac{-4x-12y}{2x}\\\\x^2=16(4-y^2)\\\\\\end{cases}\\\\\\\\\\end{eqnarray*}\n",
    "$$(\\lambda_1, x, y):\\quad(-\\frac{7}{2}, 4\\sqrt{2}, \\sqrt{2}),\\quad(-\\frac{1}{2}, 4\\sqrt{2}, -\\sqrt{2}),\\quad\n",
    "    (-\\frac{1}{2}, -4\\sqrt{2}, \\sqrt{2}),\\quad(-\\frac{7}{2}, -4\\sqrt{2}, -\\sqrt{2})$$$$$$\n",
    "$$\\begin{eqnarray*}\\left|\\begin{array}{ccc}0&2x&32y\\\\2x&4+2\\lambda_1&12\\\\32y&12&64+32\\lambda_1\\end{array}\\right|=0*\\left|\n",
    "\\begin{array}{cc}4+2\\lambda_1&12\\\\12&64+32\\lambda_1\\end{array}\\right|-2x*\\left|\\begin{array}{cc}2x&32y\\\\12&64+32\\lambda_1\n",
    "\\end{array}\\right|+32y*\\left|\\begin{array}{cc}2x&4+2\\lambda_1\\\\32y&12\\end{array}\\right|\\end{eqnarray*}=$$$$$$\n",
    "$$=0-2x*(2x(64-32\\lambda_1)-384y)+32y(24x-32y(4+\\lambda_1))=-256x^2-128x^2\\lambda_1+1536xy-4096y^2-2048y^2\\lambda_1=$$$$$$\n",
    "$$=-128(x^2(2+\\lambda_1)-12xy+16y^2(2+\\lambda_1))=-128((x^2+16y^2)(2+\\lambda_1)-12xy)=-128(64(2+\\lambda_1)-12xy)=\n",
    "-512(16(2+\\lambda_1)-3xy)$$$$$$\n",
    "\n",
    "\n",
    "$$\\text{Для точки}\\quad(-\\frac{7}{2}, 4\\sqrt{2}, \\sqrt{2}):\\quad\\varDelta=-512*(16*(2-\\frac{7}{2})-3*4\\sqrt{2}*\\sqrt{2})\n",
    "    =24576>0\\text{ - точка глобального максимума}$$\n",
    "$$\\text{Для точки}\\quad(-\\frac{1}{2}, 4\\sqrt{2}, -\\sqrt{2}):\\quad\\varDelta=-512*(16*(2-\\frac{1}{2})-3*4\\sqrt{2}*(-\\sqrt{2}))\n",
    "    =-24576<0\\text{ - точка локального минимума}$$\n",
    "$$\\text{Для точки}\\quad(-\\frac{1}{2}, -4\\sqrt{2}, \\sqrt{2}):\\quad\\varDelta=-512*(16*(2-\\frac{1}{2})+3*4\\sqrt{2}*\\sqrt{2})\n",
    "    =-24576<0\\text{ - точка глобального минимума}$$\n",
    "$$\\text{Для точки}\\quad(-\\frac{7}{2}, -4\\sqrt{2}, -\\sqrt{2}):\\quad\\varDelta=-512*(16*(2-\\frac{7}{2})+3*4\\sqrt{2}*(-\\sqrt{2}))\n",
    "    =24576>0\\text{ - точка локального максимума}$$"
   ]
  },
  {
   "cell_type": "markdown",
   "metadata": {},
   "source": [
    "2. Найти производную функции U=x^2+y^2+z^2 по направлению вектора c (-9, 8, -12) в точку M (8, -12, 9)"
   ]
  },
  {
   "cell_type": "code",
   "execution_count": 3,
   "metadata": {},
   "outputs": [
    {
     "data": {
      "text/latex": [
       "$$|\\overrightarrow{c}|=\\sqrt{(-9)^2+8^2+(-12)^2}=\\sqrt{289}=17$$$$$$\n",
       "$$\\overrightarrow{c_0}=(-\\frac{9}{17}, \\frac{8}{17}, -\\frac{12}{17})$$$$$$\n",
       "$$U'_x=2x,\\quad U'_y=2y,\\quad U'_z=2z$$$$$$\n",
       "$$grad|_{(8, -12, 9)}=(16, -24, 18)$$$$$$\n",
       "$$U'_{\\overrightarrow{c}}|_{(8, -12, 9)}=-\\frac{9}{17}*16-\\frac{8}{17}*24-\\frac{12}{17}*18=-\\frac{552}{17}=-32\\frac{8}{17}$$\n"
      ],
      "text/plain": [
       "<IPython.core.display.Latex object>"
      ]
     },
     "metadata": {},
     "output_type": "display_data"
    }
   ],
   "source": [
    "%%latex\n",
    "$$|\\overrightarrow{c}|=\\sqrt{(-9)^2+8^2+(-12)^2}=\\sqrt{289}=17$$$$$$\n",
    "$$\\overrightarrow{c_0}=(-\\frac{9}{17}, \\frac{8}{17}, -\\frac{12}{17})$$$$$$\n",
    "$$U'_x=2x,\\quad U'_y=2y,\\quad U'_z=2z$$$$$$\n",
    "$$grad|_{(8, -12, 9)}=(16, -24, 18)$$$$$$\n",
    "$$U'_{\\overrightarrow{c}}|_{(8, -12, 9)}=-\\frac{9}{17}*16-\\frac{8}{17}*24-\\frac{12}{17}*18=-\\frac{552}{17}=-32\\frac{8}{17}$$"
   ]
  },
  {
   "cell_type": "markdown",
   "metadata": {},
   "source": [
    "3. Найти производную функции U=e^(x^2+y^2+z^2) по направлению вектора d (4, -13, -16) в точку M (-16, 4, -13)"
   ]
  },
  {
   "cell_type": "code",
   "execution_count": 4,
   "metadata": {},
   "outputs": [
    {
     "data": {
      "text/latex": [
       "$$|\\overrightarrow{d}|=\\sqrt{4^2+(-13)^2+(-16)^2}=\\sqrt{441}=21$$$$$$\n",
       "$$\\overrightarrow{d_0}=(\\frac{4}{21}, -\\frac{13}{21}, -\\frac{16}{21})$$$$$$\n",
       "$$U'_x=2x*e^{x^2+y^2+z^2},\\quad U'_y=2y*e^{x^2+y^2+z^2},\\quad U'_z=2z*e^{x^2+y^2+z^2}$$$$$$\n",
       "$$grad|_{(-16, 4, -13)}=(-32*e^{441}, 8*e^{441}, -26*e^{441})$$$$$$\n",
       "$$U'_{\\overrightarrow{d}}|_{(-16, 4, -13)}=-\\frac{4}{21}*32*e^{441}-\\frac{13}{21}*8*e^{441}+\\frac{16}{21}*26*e^{441}=\n",
       "\\frac{184}{21}*e^{441}=8\\frac{16}{21}*e^{441}$$\n"
      ],
      "text/plain": [
       "<IPython.core.display.Latex object>"
      ]
     },
     "metadata": {},
     "output_type": "display_data"
    }
   ],
   "source": [
    "%%latex\n",
    "$$|\\overrightarrow{d}|=\\sqrt{4^2+(-13)^2+(-16)^2}=\\sqrt{441}=21$$$$$$\n",
    "$$\\overrightarrow{d_0}=(\\frac{4}{21}, -\\frac{13}{21}, -\\frac{16}{21})$$$$$$\n",
    "$$U'_x=2x*e^{x^2+y^2+z^2},\\quad U'_y=2y*e^{x^2+y^2+z^2},\\quad U'_z=2z*e^{x^2+y^2+z^2}$$$$$$\n",
    "$$grad|_{(-16, 4, -13)}=(-32*e^{441}, 8*e^{441}, -26*e^{441})$$$$$$\n",
    "$$U'_{\\overrightarrow{d}}|_{(-16, 4, -13)}=-\\frac{4}{21}*32*e^{441}-\\frac{13}{21}*8*e^{441}+\\frac{16}{21}*26*e^{441}=\n",
    "\\frac{184}{21}*e^{441}=8\\frac{16}{21}*e^{441}$$"
   ]
  }
 ],
 "metadata": {
  "kernelspec": {
   "display_name": "Python 3",
   "language": "python",
   "name": "python3"
  },
  "language_info": {
   "codemirror_mode": {
    "name": "ipython",
    "version": 3
   },
   "file_extension": ".py",
   "mimetype": "text/x-python",
   "name": "python",
   "nbconvert_exporter": "python",
   "pygments_lexer": "ipython3",
   "version": "3.7.3"
  }
 },
 "nbformat": 4,
 "nbformat_minor": 2
}
