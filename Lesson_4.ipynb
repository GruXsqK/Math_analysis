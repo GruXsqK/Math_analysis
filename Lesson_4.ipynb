{
 "cells": [
  {
   "cell_type": "markdown",
   "metadata": {},
   "source": [
    "# Домашнее задание по теме «Производные функций нескольких переменных»."
   ]
  },
  {
   "cell_type": "markdown",
   "metadata": {},
   "source": [
    " 1. Найти область определения функции."
   ]
  },
  {
   "cell_type": "code",
   "execution_count": 1,
   "metadata": {},
   "outputs": [
    {
     "data": {
      "text/latex": [
       "$$z=\\sqrt{1-x^3}+ln(y^2-1)$$\n",
       "\\begin{eqnarray*}\\\\\\begin{cases}1-x^3\\geq 0\\\\y^2-1> 0\\\\\\end{cases}\\Rightarrow\\begin{cases}x\\leq 1\\\\|y|>1\\\\\\end{cases}\n",
       "\\end{eqnarray*}\\begin{eqnarray}\\end{eqnarray}\n",
       "$$x \\in (-\\infty,1]; \\quad y \\in (-\\infty, -1)\\cup(1, +\\infty)$$\n"
      ],
      "text/plain": [
       "<IPython.core.display.Latex object>"
      ]
     },
     "metadata": {},
     "output_type": "display_data"
    }
   ],
   "source": [
    "%%latex\n",
    "$$z=\\sqrt{1-x^3}+ln(y^2-1)$$\n",
    "\\begin{eqnarray*}\\\\\\begin{cases}1-x^3\\geq 0\\\\y^2-1> 0\\\\\\end{cases}\\Rightarrow\\begin{cases}x\\leq 1\\\\|y|>1\\\\\\end{cases}\n",
    "\\end{eqnarray*}\\begin{eqnarray}\\end{eqnarray}\n",
    "$$x \\in (-\\infty,1]; \\quad y \\in (-\\infty, -1)\\cup(1, +\\infty)$$"
   ]
  },
  {
   "cell_type": "markdown",
   "metadata": {},
   "source": [
    " 2. Найти производные 1-го порядка функции."
   ]
  },
  {
   "cell_type": "code",
   "execution_count": 2,
   "metadata": {},
   "outputs": [
    {
     "data": {
      "text/latex": [
       "$$z=(1+\\frac{\\ln x}{\\ln y})^3$$\n",
       "$$z'_x=\\frac{3}{x\\ln y}(1+\\frac{\\ln x}{\\ln y})^2$$\n",
       "$$z'_y=-\\frac{3\\ln x}{y\\ln^2 y}(1+\\frac{\\ln x}{\\ln y})^2$$\n"
      ],
      "text/plain": [
       "<IPython.core.display.Latex object>"
      ]
     },
     "metadata": {},
     "output_type": "display_data"
    }
   ],
   "source": [
    "%%latex\n",
    "$$z=(1+\\frac{\\ln x}{\\ln y})^3$$\n",
    "$$z'_x=\\frac{3}{x\\ln y}(1+\\frac{\\ln x}{\\ln y})^2$$\n",
    "$$z'_y=-\\frac{3\\ln x}{y\\ln^2 y}(1+\\frac{\\ln x}{\\ln y})^2$$"
   ]
  },
  {
   "cell_type": "markdown",
   "metadata": {},
   "source": [
    "3. Найти полный дифференциал функции в точке (1;1)."
   ]
  },
  {
   "cell_type": "code",
   "execution_count": 3,
   "metadata": {},
   "outputs": [
    {
     "data": {
      "text/latex": [
       "$$z=\\sqrt{2xy+cos\\frac{x}{y}}$$$$$$\n",
       "$$z'_x=\\frac{2y-\\frac{1}{y}sin\\frac{x}{y}}{2\\sqrt{2xy+cos\\frac{x}{y}}}$$$$$$\n",
       "$$z'_y=\\frac{2x+\\frac{x}{y^2}sin\\frac{x}{y}}{2\\sqrt{2xy+cos\\frac{x}{y}}}$$$$$$\n",
       "$$z'_{x(1;1)}=\\frac{2-sin(1)}{2\\sqrt{2+cos(1)}}$$$$$$\n",
       "$$z'_{y(1;1)}=\\frac{2+sin(1)}{2\\sqrt{2+cos(1)}}$$$$$$\n",
       "$$dz=z'_{x(1;1)}+z'_{y(1;1)}=\\frac{2-sin(1)}{2\\sqrt{2+cos(1)}}dx+\\frac{2+sin(1)}{2\\sqrt{2+cos(1)}}dy$$\n"
      ],
      "text/plain": [
       "<IPython.core.display.Latex object>"
      ]
     },
     "metadata": {},
     "output_type": "display_data"
    }
   ],
   "source": [
    "%%latex\n",
    "$$z=\\sqrt{2xy+cos\\frac{x}{y}}$$$$$$\n",
    "$$z'_x=\\frac{2y-\\frac{1}{y}sin\\frac{x}{y}}{2\\sqrt{2xy+cos\\frac{x}{y}}}$$$$$$\n",
    "$$z'_y=\\frac{2x+\\frac{x}{y^2}sin\\frac{x}{y}}{2\\sqrt{2xy+cos\\frac{x}{y}}}$$$$$$\n",
    "$$z'_{x(1;1)}=\\frac{2-sin(1)}{2\\sqrt{2+cos(1)}}$$$$$$\n",
    "$$z'_{y(1;1)}=\\frac{2+sin(1)}{2\\sqrt{2+cos(1)}}$$$$$$\n",
    "$$dz=z'_{x(1;1)}+z'_{y(1;1)}=\\frac{2-sin(1)}{2\\sqrt{2+cos(1)}}dx+\\frac{2+sin(1)}{2\\sqrt{2+cos(1)}}dy$$"
   ]
  },
  {
   "cell_type": "markdown",
   "metadata": {},
   "source": [
    "4. Исследовать на экстремум функцию"
   ]
  },
  {
   "cell_type": "code",
   "execution_count": 4,
   "metadata": {},
   "outputs": [
    {
     "data": {
      "text/latex": [
       "$$z=x^2+xy+y^2-6x-9y$$\n",
       "\\begin{eqnarray*}\\\\\\begin{cases}\\frac{\\partial z}{\\partial x}=2x+y-6\\\\\\frac{\\partial z}{\\partial y}=x+2y-9\\\\\\end{cases}\n",
       "\\end{eqnarray*}\\begin{eqnarray*}\\\\\\begin{cases}x=1\\\\y=4\\\\\\end{cases}\\end{eqnarray*}\\begin{eqnarray*}\\end{eqnarray*}\n",
       "$$\\frac{\\partial^2 z}{\\partial x^2}=2;\\quad \\frac{\\partial^2 z}{\\partial y^2}=2;\\quad \\frac{\\partial^2 z}{\\partial \n",
       "                                                                                                          x\\partial y}=1$$$$$$\n",
       "\\begin{eqnarray*}\\varDelta=\\left|\\begin{array}{cc}2&1\\\\1&2\\end{array}\\right|=3>0\\end{eqnarray*}\n",
       "$$$$$$M(1; 4)\\text{ - точка минимума, т.к. $z''_{xx}$>0}$$\n"
      ],
      "text/plain": [
       "<IPython.core.display.Latex object>"
      ]
     },
     "metadata": {},
     "output_type": "display_data"
    }
   ],
   "source": [
    "%%latex\n",
    "$$z=x^2+xy+y^2-6x-9y$$\n",
    "\\begin{eqnarray*}\\\\\\begin{cases}\\frac{\\partial z}{\\partial x}=2x+y-6\\\\\\frac{\\partial z}{\\partial y}=x+2y-9\\\\\\end{cases}\n",
    "\\end{eqnarray*}\\begin{eqnarray*}\\\\\\begin{cases}x=1\\\\y=4\\\\\\end{cases}\\end{eqnarray*}\\begin{eqnarray*}\\end{eqnarray*}\n",
    "$$\\frac{\\partial^2 z}{\\partial x^2}=2;\\quad \\frac{\\partial^2 z}{\\partial y^2}=2;\\quad \\frac{\\partial^2 z}{\\partial \n",
    "                                                                                                          x\\partial y}=1$$$$$$\n",
    "\\begin{eqnarray*}\\varDelta=\\left|\\begin{array}{cc}2&1\\\\1&2\\end{array}\\right|=3>0\\end{eqnarray*}\n",
    "$$$$$$M(1; 4)\\text{ - точка минимума, т.к. $z''_{xx}$>0}$$"
   ]
  }
 ],
 "metadata": {
  "kernelspec": {
   "display_name": "Python 3",
   "language": "python",
   "name": "python3"
  },
  "language_info": {
   "codemirror_mode": {
    "name": "ipython",
    "version": 3
   },
   "file_extension": ".py",
   "mimetype": "text/x-python",
   "name": "python",
   "nbconvert_exporter": "python",
   "pygments_lexer": "ipython3",
   "version": "3.7.3"
  }
 },
 "nbformat": 4,
 "nbformat_minor": 2
}
