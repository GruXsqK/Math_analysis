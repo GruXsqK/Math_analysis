{
 "cells": [
  {
   "cell_type": "markdown",
   "metadata": {},
   "source": [
    "# Практическое задание к уроку “Множество. Последовательность”"
   ]
  },
  {
   "cell_type": "markdown",
   "metadata": {},
   "source": [
    "## Тема “Введение в математических анализ”"
   ]
  },
  {
   "cell_type": "markdown",
   "metadata": {},
   "source": [
    "1. Как относятся друг к другу множество и последовательность? (в ответе использовать слова типа: часть, целое, общее, частное, родитель, дочерний субъект и т.д."
   ]
  },
  {
   "cell_type": "markdown",
   "metadata": {},
   "source": [
    "Последовательность - это частный случай множества, где все элементы пронумерованы."
   ]
  },
  {
   "cell_type": "markdown",
   "metadata": {},
   "source": [
    "2. Прочитать высказывания математической логики, построить их отрицания и установить истинность."
   ]
  },
  {
   "cell_type": "code",
   "execution_count": 1,
   "metadata": {},
   "outputs": [
    {
     "data": {
      "text/latex": [
       "$$1)\\quad\\text{Исходное ложь.} \\quad\\exists y\\in [0; 1]: sqn(y)\\ne 1$$\n",
       "$$2)\\quad\\text{Исходное ложь.} \\quad\\exists n\\in N>2:\\forall x,y,z\\in N:x^n\\ne y^n+z^n$$\n",
       "$$3)\\quad\\text{Исходное истина.} \\quad\\exists x\\in R\\ \\forall X\\in R:X<x$$\n",
       "$$4)\\quad\\text{Исходное ложь.} \\quad\\exists x\\in C\\ \\exists y\\in C:x\\le y||x\\ge y$$\n",
       "$$5)\\quad\\text{Исходное ложь.} \\quad\\exists y\\in [0; \\frac{\\pi}{2}]\\ \\forall\\varepsilon> 0:sin\\ y\\ge sin(y+\\varepsilon)$$\n",
       "$$6)\\quad\\text{Исходное истина.} \\quad\\exists y\\in [0; \\pi)\\ \\forall\\varepsilon>0:cos\\ y\\le cos(y+\\varepsilon)$$\n",
       "$$7)\\quad\\text{Исходное истина.} \\quad\\forall x: x\\in \\{N,Z,Q,R,C\\}$$\n"
      ],
      "text/plain": [
       "<IPython.core.display.Latex object>"
      ]
     },
     "metadata": {},
     "output_type": "display_data"
    }
   ],
   "source": [
    "%%latex\n",
    "$$1)\\quad\\text{Исходное ложь.} \\quad\\exists y\\in [0; 1]: sqn(y)\\ne 1$$\n",
    "$$2)\\quad\\text{Исходное ложь.} \\quad\\exists n\\in N>2:\\forall x,y,z\\in N:x^n\\ne y^n+z^n$$\n",
    "$$3)\\quad\\text{Исходное истина.} \\quad\\exists x\\in R\\ \\forall X\\in R:X<x$$\n",
    "$$4)\\quad\\text{Исходное ложь.} \\quad\\exists x\\in C\\ \\exists y\\in C:x\\le y||x\\ge y$$\n",
    "$$5)\\quad\\text{Исходное ложь.} \\quad\\exists y\\in [0; \\frac{\\pi}{2}]\\ \\forall\\varepsilon> 0:sin\\ y\\ge sin(y+\\varepsilon)$$\n",
    "$$6)\\quad\\text{Исходное истина.} \\quad\\exists y\\in [0; \\pi)\\ \\forall\\varepsilon>0:cos\\ y\\le cos(y+\\varepsilon)$$\n",
    "$$7)\\quad\\text{Исходное истина.} \\quad\\forall x: x\\in \\{N,Z,Q,R,C\\}$$"
   ]
  },
  {
   "cell_type": "markdown",
   "metadata": {},
   "source": [
    "## Тема “Множество”"
   ]
  },
  {
   "cell_type": "markdown",
   "metadata": {},
   "source": [
    "1. Даны три множества a,b и с. Необходимо выполнить все изученные виды бинарных операций над всеми комбинациями множеств."
   ]
  },
  {
   "cell_type": "code",
   "execution_count": 2,
   "metadata": {},
   "outputs": [
    {
     "data": {
      "text/latex": [
       "Пусть: $a=\\{1,2,3\\},\\quad b=\\{2,3,4\\},\\quad c=\\{4,5,6,2\\}$\n",
       "$$a\\cap b\\cap c=\\{2\\}$$\n",
       "$$a\\cup b\\cup c=\\{1,2,3,4,5,6\\},\\quad|a\\cup b\\cup c|=|a|+|b|+|c|-|a\\cap b|-|a\\cap c|-|b\\cap c|+|a\\cap b\\cap c|$$\n",
       "$$a\\setminus b\\setminus c=\\{1\\}, \\quad|a\\setminus b\\setminus c|=|a|-|a\\cap b|-|a\\cap c|$$\n",
       "$$a\\bigtriangleup b\\bigtriangleup c=\\{1,5,6\\}, \n",
       "    \\quad|a\\bigtriangleup b\\bigtriangleup c|=|a|+|b|+|c|+3|a\\cap b\\cap c|-2|a\\cap b|-2|a\\cap c|-2|b\\cap c|$$\n",
       "$$a\\times b\\times c=\\{(1,2,4);(1,2,5);(1,2,6);(1,2,2);(1,3,4);(1,3,5);(1,3,6);(1,3,2);(1,4,4);(1,4,5);(1,4,6);(1,4,2);\n",
       "        (2,2,4);(2,2,5);(2,2,6);(2,2,2);(2,3,4);(2,3,5);(2,3,6);(2,3,2);(2,4,4);(2,4,5);(2,4,6);(2,4,2);\n",
       "                      (3,2,4);(3,2,5);(3,2,6);(3,2,2);(3,3,4);(3,3,5);(3,3,6);(3,3,2);(3,4,4);(3,4,5);(3,4,6);(3,4,2)\\}$$\n"
      ],
      "text/plain": [
       "<IPython.core.display.Latex object>"
      ]
     },
     "metadata": {},
     "output_type": "display_data"
    }
   ],
   "source": [
    "%%latex\n",
    "Пусть: $a=\\{1,2,3\\},\\quad b=\\{2,3,4\\},\\quad c=\\{4,5,6,2\\}$\n",
    "$$a\\cap b\\cap c=\\{2\\}$$\n",
    "$$a\\cup b\\cup c=\\{1,2,3,4,5,6\\},\\quad|a\\cup b\\cup c|=|a|+|b|+|c|-|a\\cap b|-|a\\cap c|-|b\\cap c|+|a\\cap b\\cap c|$$\n",
    "$$a\\setminus b\\setminus c=\\{1\\}, \\quad|a\\setminus b\\setminus c|=|a|-|a\\cap b|-|a\\cap c|$$\n",
    "$$a\\bigtriangleup b\\bigtriangleup c=\\{1,5,6\\}, \n",
    "    \\quad|a\\bigtriangleup b\\bigtriangleup c|=|a|+|b|+|c|+3|a\\cap b\\cap c|-2|a\\cap b|-2|a\\cap c|-2|b\\cap c|$$\n",
    "$$a\\times b\\times c=\\{(1,2,4);(1,2,5);(1,2,6);(1,2,2);(1,3,4);(1,3,5);(1,3,6);(1,3,2);(1,4,4);(1,4,5);(1,4,6);(1,4,2);\n",
    "        (2,2,4);(2,2,5);(2,2,6);(2,2,2);(2,3,4);(2,3,5);(2,3,6);(2,3,2);(2,4,4);(2,4,5);(2,4,6);(2,4,2);\n",
    "                      (3,2,4);(3,2,5);(3,2,6);(3,2,2);(3,3,4);(3,3,5);(3,3,6);(3,3,2);(3,4,4);(3,4,5);(3,4,6);(3,4,2)\\}$$"
   ]
  },
  {
   "cell_type": "code",
   "execution_count": 3,
   "metadata": {},
   "outputs": [
    {
     "name": "stdout",
     "output_type": "stream",
     "text": [
      "Объединение a, b и c = {2}\n",
      "Пересечение a, b и c = {1, 2, 3, 4, 5, 6}\n",
      "Разность a, b и c = {1}\n",
      "Симметрическая разность a, b и c = {1, 5, 6}\n",
      "Декартово произведение a, b и c = [[1, 2, 2], [1, 2, 4], [1, 2, 5], [1, 2, 6], [1, 3, 2], [1, 3, 4], [1, 3, 5], [1, 3, 6], [1, 4, 2], [1, 4, 4], [1, 4, 5], [1, 4, 6], [2, 2, 2], [2, 2, 4], [2, 2, 5], [2, 2, 6], [2, 3, 2], [2, 3, 4], [2, 3, 5], [2, 3, 6], [2, 4, 2], [2, 4, 4], [2, 4, 5], [2, 4, 6], [3, 2, 2], [3, 2, 4], [3, 2, 5], [3, 2, 6], [3, 3, 2], [3, 3, 4], [3, 3, 5], [3, 3, 6], [3, 4, 2], [3, 4, 4], [3, 4, 5], [3, 4, 6]]\n"
     ]
    }
   ],
   "source": [
    "a = set([1, 2, 3])\n",
    "b = set([2, 3, 4])\n",
    "c = set([4, 5, 6, 2])\n",
    "\n",
    "print('Объединение a, b и c =', a.intersection(b, c))\n",
    "print('Пересечение a, b и c =', a.union(b, c))\n",
    "print('Разность a, b и c =', a.difference(b, c))\n",
    "print('Симметрическая разность a, b и c =', a.difference(b, c).union(b.difference(a, c), c.difference(a, b)))\n",
    "\n",
    "a, b, c = frozenset(a), frozenset(b), frozenset(c)\n",
    "decart = []\n",
    "for elm_a in a:\n",
    "    for elm_b in b:\n",
    "        for elm_c in c:\n",
    "            decart.append([elm_a, elm_b, elm_c])\n",
    "            \n",
    "print('Декартово произведение a, b и c =', decart)"
   ]
  },
  {
   "cell_type": "markdown",
   "metadata": {},
   "source": [
    "## Тема “Последовательность”"
   ]
  },
  {
   "cell_type": "markdown",
   "metadata": {},
   "source": [
    "1. Даны 4 последовательности. Необходимо:\n",
    "a. исследовать их на монотонность; \n",
    "b. исследовать на ограниченность;\n",
    "c. найти пятый по счету член."
   ]
  },
  {
   "cell_type": "code",
   "execution_count": 4,
   "metadata": {},
   "outputs": [
    {
     "data": {
      "text/latex": [
       "$$\\{a_n\\}^{\\infty}_{n=1}=2^n-n$$\n",
       "$$\\{b_n\\}^{\\infty}_{n=2}=\\frac{1}{1-n}$$\n",
       "$$\\{c_n\\}^{\\infty}_{n=1}=-1^n+\\sqrt{2n}$$\n",
       "$$\\{d_n\\}^{\\infty}_{n=1}=(-1)^{2n}+\\frac{1}{n^2}$$\n"
      ],
      "text/plain": [
       "<IPython.core.display.Latex object>"
      ]
     },
     "metadata": {},
     "output_type": "display_data"
    }
   ],
   "source": [
    "%%latex\n",
    "$$\\{a_n\\}^{\\infty}_{n=1}=2^n-n$$\n",
    "$$\\{b_n\\}^{\\infty}_{n=2}=\\frac{1}{1-n}$$\n",
    "$$\\{c_n\\}^{\\infty}_{n=1}=-1^n+\\sqrt{2n}$$\n",
    "$$\\{d_n\\}^{\\infty}_{n=1}=(-1)^{2n}+\\frac{1}{n^2}$$"
   ]
  },
  {
   "cell_type": "code",
   "execution_count": 5,
   "metadata": {},
   "outputs": [
    {
     "data": {
      "text/latex": [
       "$\\text{Исследуем последовательности на монотонность через разность: $x_n-x_{n+1}$}\\\\$\n",
       "$\\text{Для $\\{a_n\\}:x_n-x_{n+1}=-2^n+1<0, \\quad$последовательность монотонно возрастает и ограничена снизу единицей\n",
       "       при n $\\in$ N}$\n",
       "$\\text{Для $\\{b_n\\}:x_n-x_{n+1}=\\frac{1}{n-n^2}<0, \\quad$последовательность монотонно возрастает и ограничена минус\n",
       "       единицей и нулем (при n $\\ge 2$)}$\n",
       "$\\text{Для $\\{c_n\\}:x_n-x_{n+1}=\\sqrt{2n}-\\sqrt{2(n+1)}<0, \\quad$последовательность монотонно возрастает и ограничена\n",
       "       снизу $\\sqrt{2}-1$}$\n",
       "$\\text{Для $\\{d_n\\}:x_n-x_{n+1}=\\frac{(n+1)^2-n^2}{n^2(n+1)^2}>0, \\quad$последовательность монотонно убывает (при n $\\in$ N)\n",
       "       и ограничена двойкой и единицей}$\n"
      ],
      "text/plain": [
       "<IPython.core.display.Latex object>"
      ]
     },
     "metadata": {},
     "output_type": "display_data"
    }
   ],
   "source": [
    "%%latex\n",
    "$\\text{Исследуем последовательности на монотонность через разность: $x_n-x_{n+1}$}\\\\$\n",
    "$\\text{Для $\\{a_n\\}:x_n-x_{n+1}=-2^n+1<0, \\quad$последовательность монотонно возрастает и ограничена снизу единицей\n",
    "       при n $\\in$ N}$\n",
    "$\\text{Для $\\{b_n\\}:x_n-x_{n+1}=\\frac{1}{n-n^2}<0, \\quad$последовательность монотонно возрастает и ограничена минус\n",
    "       единицей и нулем (при n $\\ge 2$)}$\n",
    "$\\text{Для $\\{c_n\\}:x_n-x_{n+1}=\\sqrt{2n}-\\sqrt{2(n+1)}<0, \\quad$последовательность монотонно возрастает и ограничена\n",
    "       снизу $\\sqrt{2}-1$}$\n",
    "$\\text{Для $\\{d_n\\}:x_n-x_{n+1}=\\frac{(n+1)^2-n^2}{n^2(n+1)^2}>0, \\quad$последовательность монотонно убывает (при n $\\in$ N)\n",
    "       и ограничена двойкой и единицей}$"
   ]
  },
  {
   "cell_type": "code",
   "execution_count": 6,
   "metadata": {},
   "outputs": [
    {
     "data": {
      "text/latex": [
       "$$a_5=2^5-5=27$$\n",
       "$$b_6=\\frac{1}{1-6}=-0.2$$\n",
       "$$с_5=-1^5+\\sqrt{2*5}=\\sqrt{10}-1\\approx 3,162$$\n",
       "$$d_5=(-1)^{2*5}+\\frac{1}{5^2}=1.04$$\n"
      ],
      "text/plain": [
       "<IPython.core.display.Latex object>"
      ]
     },
     "metadata": {},
     "output_type": "display_data"
    }
   ],
   "source": [
    "%%latex\n",
    "$$a_5=2^5-5=27$$\n",
    "$$b_6=\\frac{1}{1-6}=-0.2$$\n",
    "$$с_5=-1^5+\\sqrt{2*5}=\\sqrt{10}-1\\approx 3,162$$\n",
    "$$d_5=(-1)^{2*5}+\\frac{1}{5^2}=1.04$$"
   ]
  },
  {
   "cell_type": "markdown",
   "metadata": {},
   "source": [
    "2. Найти 12-й член заданной неявно последовательности"
   ]
  },
  {
   "cell_type": "code",
   "execution_count": 7,
   "metadata": {},
   "outputs": [
    {
     "data": {
      "text/latex": [
       "$$a_1=128; \\quad a_{n+1}-a_n=6$$\n",
       "$$a_{12}=6*11+a_{1}=194$$\n"
      ],
      "text/plain": [
       "<IPython.core.display.Latex object>"
      ]
     },
     "metadata": {},
     "output_type": "display_data"
    }
   ],
   "source": [
    "%%latex\n",
    "$$a_1=128; \\quad a_{n+1}-a_n=6$$\n",
    "$$a_{12}=6*11+a_{1}=194$$"
   ]
  },
  {
   "cell_type": "markdown",
   "metadata": {},
   "source": [
    "3. *На языке Python предложить алгоритм вычисляющий численно предел с точностью 10^-7"
   ]
  },
  {
   "cell_type": "code",
   "execution_count": 8,
   "metadata": {},
   "outputs": [
    {
     "data": {
      "text/latex": [
       "$\\varepsilon=10^{-7}$\n",
       "\\[\\lim_{n\\to\\infty}\\frac{n}{\\sqrt[n]{n!}}\\]\n"
      ],
      "text/plain": [
       "<IPython.core.display.Latex object>"
      ]
     },
     "metadata": {},
     "output_type": "display_data"
    }
   ],
   "source": [
    "%%latex\n",
    "$\\varepsilon=10^{-7}$\n",
    "\\[\\lim_{n\\to\\infty}\\frac{n}{\\sqrt[n]{n!}}\\]"
   ]
  },
  {
   "cell_type": "code",
   "execution_count": 9,
   "metadata": {},
   "outputs": [
    {
     "name": "stdout",
     "output_type": "stream",
     "text": [
      "2.6630879\n"
     ]
    }
   ],
   "source": [
    "import math\n",
    "\n",
    "n = 1\n",
    "try:\n",
    "    while True:\n",
    "        lim = n/(math.pow(math.factorial(n), 1/n))\n",
    "        n += 1\n",
    "except OverflowError:\n",
    "    print(round(lim, 7))"
   ]
  },
  {
   "cell_type": "markdown",
   "metadata": {},
   "source": [
    "4. *Предложить оптимизацию алгоритма, полученного в задании 3, ускоряющую его сходимость."
   ]
  },
  {
   "cell_type": "code",
   "execution_count": 10,
   "metadata": {},
   "outputs": [
    {
     "name": "stdout",
     "output_type": "stream",
     "text": [
      "2.6630956\n"
     ]
    }
   ],
   "source": [
    "n = 170\n",
    "print(round(n/(math.pow((math.sqrt(2*math.pi*n)*math.pow((n/math.e), n)), 1/n)), 7))"
   ]
  }
 ],
 "metadata": {
  "kernelspec": {
   "display_name": "Python 3",
   "language": "python",
   "name": "python3"
  },
  "language_info": {
   "codemirror_mode": {
    "name": "ipython",
    "version": 3
   },
   "file_extension": ".py",
   "mimetype": "text/x-python",
   "name": "python",
   "nbconvert_exporter": "python",
   "pygments_lexer": "ipython3",
   "version": "3.7.3"
  }
 },
 "nbformat": 4,
 "nbformat_minor": 2
}
